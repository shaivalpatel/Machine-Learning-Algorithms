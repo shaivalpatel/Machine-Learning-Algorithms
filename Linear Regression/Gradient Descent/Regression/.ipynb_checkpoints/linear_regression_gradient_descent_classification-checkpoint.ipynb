{
 "cells": [
  {
   "cell_type": "code",
   "execution_count": 2,
   "metadata": {},
   "outputs": [],
   "source": [
    "import numpy as np\n",
    "import pandas as pd"
   ]
  },
  {
   "cell_type": "code",
   "execution_count": 82,
   "metadata": {},
   "outputs": [
    {
     "name": "stdout",
     "output_type": "stream",
     "text": [
      "['CRIM', 'ZN', 'INDUS', 'CHAS', 'NOX', 'RM', 'AGE', 'DIS', 'RAD', 'TAX', 'PTRATIO', 'B', 'LSTAT']\n"
     ]
    },
    {
     "name": "stderr",
     "output_type": "stream",
     "text": [
      "/Users/shaivalpatel/anaconda3/lib/python3.7/site-packages/ipykernel_launcher.py:8: FutureWarning: convert_objects is deprecated.  To re-infer data dtypes for object columns, use DataFrame.infer_objects()\n",
      "For all other conversions use the data-type specific converters pd.to_datetime, pd.to_timedelta and pd.to_numeric.\n",
      "  \n"
     ]
    }
   ],
   "source": [
    "training_data = open('housing_train.txt').read().split(\"\\n\")\n",
    "training_data = [i.split(\" \") for i in (training_data)]\n",
    "training_data=[list(filter(lambda j: len(j) > 0, x)) for x in training_data]\n",
    "training_data=list(filter(lambda x: len(x) > 0, training_data))\n",
    "column = open('features','r').read().split(\"\\n\")\n",
    "column =[i.strip() for i in column]\n",
    "training_dataset =  pd.DataFrame(training_data, columns=column)\n",
    "training_dataset=training_dataset.convert_objects(convert_numeric=True)\n",
    "training_dataset=training_dataset.dropna()\n",
    "columnmax = [max(training_dataset[i]) for i in training_dataset.columns]\n",
    "columnmin = [min(training_dataset[i]) for i in training_dataset.columns]\n",
    "columns = list(training_dataset.columns)\n",
    "del columns[-1]\n",
    "print(columns)\n",
    "for i,j in enumerate(columns):\n",
    "    training_dataset[j] = (training_dataset[j] - columnmin[i])/columnmax[i]"
   ]
  },
  {
   "cell_type": "code",
   "execution_count": 110,
   "metadata": {},
   "outputs": [
    {
     "name": "stdout",
     "output_type": "stream",
     "text": [
      "['CRIM', 'ZN', 'INDUS', 'CHAS', 'NOX', 'RM', 'AGE', 'DIS', 'RAD', 'TAX', 'PTRATIO', 'B', 'LSTAT']\n"
     ]
    },
    {
     "name": "stderr",
     "output_type": "stream",
     "text": [
      "/Users/shaivalpatel/anaconda3/lib/python3.7/site-packages/ipykernel_launcher.py:8: FutureWarning: convert_objects is deprecated.  To re-infer data dtypes for object columns, use DataFrame.infer_objects()\n",
      "For all other conversions use the data-type specific converters pd.to_datetime, pd.to_timedelta and pd.to_numeric.\n",
      "  \n"
     ]
    }
   ],
   "source": [
    "testing_data = open('housing_test.txt').read().split(\"\\n\")\n",
    "testing_data = [i.split(\" \") for i in (testing_data)]\n",
    "testing_data=[list(filter(lambda j: len(j) > 0, x)) for x in testing_data]\n",
    "testing_data=list(filter(lambda x: len(x) > 0, testing_data))\n",
    "column = open('features','r').read().split(\"\\n\")\n",
    "column =[i.strip() for i in column]\n",
    "testing_dataset =  pd.DataFrame(testing_data, columns=column)\n",
    "testing_dataset=testing_dataset.convert_objects(convert_numeric=True)\n",
    "columnmax = [max(testing_dataset[i]) for i in testing_dataset.columns]\n",
    "columnmin = [min(testing_dataset[i]) for i in testing_dataset.columns]\n",
    "columns = list(testing_dataset.columns)\n",
    "del columns[-1]\n",
    "print(columns)\n",
    "for i,j in enumerate(columns):\n",
    "    testing_dataset[j] = (testing_dataset[j] - columnmin[i])/columnmax[i]"
   ]
  },
  {
   "cell_type": "code",
   "execution_count": 29,
   "metadata": {},
   "outputs": [],
   "source": [
    "def mean_squared(W,X,Y):\n",
    "    return np.sum((np.dot(X,np.transpose(W))-Y)**2)"
   ]
  },
  {
   "cell_type": "code",
   "execution_count": 123,
   "metadata": {},
   "outputs": [],
   "source": [
    "def training(learning_rate,initial_weights,m,dataset,bias):\n",
    "    diff = 10000000000\n",
    "    Y = np.asarray(list(dataset['MEDV']))\n",
    "    X = dataset.drop(columns=['MEDV']).values\n",
    "    X=np.insert(X, 0, bias, axis=1)\n",
    "    XT=np.transpose(X)\n",
    "    w_old = initial_weights\n",
    "    d_old = mean_squared(initial_weights,X,Y)\n",
    "    lm = learning_rate/m\n",
    "    while diff >0.0000000000001:\n",
    "        w_new = (w_old - (lm * (np.dot(XT,(np.dot(X,w_old.T))-Y))))\n",
    "        d_new = mean_squared(w_new,X,Y)\n",
    "        diff = abs(d_new-d_old)\n",
    "        d_old=(d_new)\n",
    "        w_old =(w_new)\n",
    "    return w_old"
   ]
  },
  {
   "cell_type": "code",
   "execution_count": 124,
   "metadata": {},
   "outputs": [],
   "source": [
    "def testing(row,weights,bias):\n",
    "    Y=(row['MEDV'])\n",
    "    X = np.asarray(list(row[:-1]))\n",
    "    X=np.insert(X,0,bias)\n",
    "    \n",
    "    s=0\n",
    "    for i in range(len(X)):\n",
    "        s+=(X[i]*weights[i])\n",
    "    return s"
   ]
  },
  {
   "cell_type": "code",
   "execution_count": 125,
   "metadata": {},
   "outputs": [],
   "source": [
    "def accuracy(prediction,testing_dataset):\n",
    "    test=np.asarray(list(testing_dataset['MEDV']))\n",
    "    pred =np.asarray(list(prediction))\n",
    "    return np.sum((test-pred)**2)/len(pred)"
   ]
  },
  {
   "cell_type": "code",
   "execution_count": 128,
   "metadata": {},
   "outputs": [
    {
     "name": "stdout",
     "output_type": "stream",
     "text": [
      "24.042097927087934\n"
     ]
    }
   ],
   "source": [
    "n = len(training_dataset.columns)-1\n",
    "m = len(training_dataset)\n",
    "W=np.random.rand(n+1)\n",
    "bias=0.1323\n",
    "weights=training(0.1,W,m,training_dataset,bias)\n",
    "prediction=[]\n",
    "for index,row in testing_dataset.iterrows():\n",
    "    prediction.append(testing(row,weights,bias))\n",
    "acc = accuracy(prediction,testing_dataset)\n",
    "print(acc) "
   ]
  },
  {
   "cell_type": "code",
   "execution_count": null,
   "metadata": {},
   "outputs": [],
   "source": []
  }
 ],
 "metadata": {
  "kernelspec": {
   "display_name": "Python 3",
   "language": "python",
   "name": "python3"
  },
  "language_info": {
   "codemirror_mode": {
    "name": "ipython",
    "version": 3
   },
   "file_extension": ".py",
   "mimetype": "text/x-python",
   "name": "python",
   "nbconvert_exporter": "python",
   "pygments_lexer": "ipython3",
   "version": "3.7.1"
  }
 },
 "nbformat": 4,
 "nbformat_minor": 2
}
