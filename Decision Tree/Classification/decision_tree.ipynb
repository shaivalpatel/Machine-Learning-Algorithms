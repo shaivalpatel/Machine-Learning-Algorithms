{
 "cells": [
  {
   "cell_type": "code",
   "execution_count": 258,
   "metadata": {},
   "outputs": [],
   "source": [
    "import pandas as pd\n",
    "import numpy as np\n",
    "import operator\n",
    "import pprint\n",
    "tree={}"
   ]
  },
  {
   "cell_type": "code",
   "execution_count": 315,
   "metadata": {},
   "outputs": [],
   "source": [
    "def entropy(class_distribution):\n",
    "    return np.sum(np.log(1/class_distribution) * class_distribution)"
   ]
  },
  {
   "cell_type": "code",
   "execution_count": 561,
   "metadata": {},
   "outputs": [],
   "source": [
    "def information_gain(entropy_levelbefore, entropy_oflevel, data_points_in_each_node):\n",
    "    return entropy_levelbefore - (np.sum((entropy_oflevel*data_points_in_each_node)/np.sum(data_points_in_each_node)))"
   ]
  },
  {
   "cell_type": "code",
   "execution_count": 422,
   "metadata": {},
   "outputs": [],
   "source": [
    "def find_subtree(dataset,feature,side):\n",
    "    if side == 'left':\n",
    "        f= feature.split(\" \")\n",
    "        l= dataset[dataset[f[0]] >= float(f[1])]\n",
    "        return l\n",
    "    else:\n",
    "        f= feature.split(\" \")\n",
    "        l= dataset[dataset[f[0]] < float(f[1])]\n",
    "        return l"
   ]
  },
  {
   "cell_type": "code",
   "execution_count": 433,
   "metadata": {},
   "outputs": [],
   "source": [
    "def select_feature(dataset,prev_entropy,entropy_cache):\n",
    "    en={}\n",
    "    info={}\n",
    "    cols=dataset.columns\n",
    "    cols=list(cols)\n",
    "    del cols[-1]\n",
    "    \n",
    "    for feature in cols:\n",
    "        for s in set(list(dataset[feature])):\n",
    "                left= dataset[dataset[feature] >= s]\n",
    "                right=dataset[dataset[feature] < s]\n",
    "                \n",
    "                left_distribution =(np.asarray(list(left['class'].value_counts())))/len(left['class'])\n",
    "                right_distribution =(np.asarray(list(right['class'].value_counts())))/len(right['class'])\n",
    "                \n",
    "                if str(left_distribution) not in entropy_cache:\n",
    "                    en[feature+\" left\"] = entropy(left_distribution)\n",
    "                    entropy_cache[str(left_distribution)]=en[feature+\" left\"]\n",
    "                else:\n",
    "                    en[feature+\" left\"] =entropy_cache[str(left_distribution)]\n",
    "\n",
    "                if str(right_distribution) not in entropy_cache:\n",
    "                    en[feature+\" right\"] = entropy(right_distribution)\n",
    "                    entropy_cache[str(right_distribution)]=en[feature+\" right\"]\n",
    "                else:\n",
    "                    en[feature+\" right\"]=entropy_cache[str(right_distribution)]\n",
    "               \n",
    "                info[str(feature)+\" \"+str(s)]=information_gain(prev_entropy,np.asarray([float(en[feature+\" left\"]),float(en[feature+\" right\"])]),np.asarray([len(left),len(right)]))\n",
    "    best_feature=max(info.items(), key=operator.itemgetter(1))[0]\n",
    "    return best_feature"
   ]
  },
  {
   "cell_type": "code",
   "execution_count": 583,
   "metadata": {},
   "outputs": [
    {
     "name": "stderr",
     "output_type": "stream",
     "text": [
      "/Users/shaivalpatel/anaconda3/lib/python3.7/site-packages/ipykernel_launcher.py:6: FutureWarning: convert_objects is deprecated.  To re-infer data dtypes for object columns, use DataFrame.infer_objects()\n",
      "For all other conversions use the data-type specific converters pd.to_datetime, pd.to_timedelta and pd.to_numeric.\n",
      "  \n"
     ]
    }
   ],
   "source": [
    "data = open('spambase.data').read().split(\"\\n\")\n",
    "data = [i.split(\",\") for i in (data)]\n",
    "column = open('features','r').read().split(\"\\n\")\n",
    "column =[i.strip() for i in column]\n",
    "dataset =  pd.DataFrame(data, columns=column)\n",
    "dataset=dataset.convert_objects(convert_numeric=True)\n",
    "dataset=dataset.dropna()\n",
    "columnmax = [max(dataset[i]) for i in dataset.columns]\n",
    "columnmin = [min(dataset[i]) for i in dataset.columns]\n",
    "for i,j in enumerate(dataset.columns):\n",
    "    dataset[j] = (dataset[j] - columnmin[i])/columnmax[i]\n",
    "dataset['class']= dataset['class'].astype(int)\n",
    "training_dataset=dataset.sample(frac=1)[:-1000]\n",
    "test_dataset=dataset.sample(frac=1)[-1000:]"
   ]
  },
  {
   "cell_type": "code",
   "execution_count": 584,
   "metadata": {},
   "outputs": [],
   "source": [
    "\n",
    "def training(dataset,depth,tree,entropy_cache={}):\n",
    "    current_node_entropy = entropy((np.asarray(list(dataset['class'].value_counts())))/len(dataset['class']))\n",
    "    if (current_node_entropy>=0.3 and depth !=0):\n",
    "        \n",
    "            current_node_entropy = entropy((np.asarray(list(dataset['class'].value_counts())))/len(dataset['class']))\n",
    "            best_feature = select_feature(dataset,current_node_entropy,entropy_cache)\n",
    "            print(best_feature)\n",
    "            left_subtree= find_subtree(dataset,best_feature,\"left\")\n",
    "            right_subtree=find_subtree(dataset,best_feature,\"right\")\n",
    "            if not left_subtree.empty:\n",
    "                tree[\"> \"+str(best_feature)]=training(left_subtree,depth-1,{},entropy_cache)\n",
    "            if not right_subtree.empty:\n",
    "                tree[\"< \"+str(best_feature)]=training(right_subtree,depth-1,{},entropy_cache)\n",
    "            return tree\n",
    "    else:\n",
    "        return (dataset['class'].value_counts())"
   ]
  },
  {
   "cell_type": "code",
   "execution_count": 585,
   "metadata": {},
   "outputs": [
    {
     "name": "stdout",
     "output_type": "stream",
     "text": [
      "char_freq_! 0.002432415789149578\n",
      "char_freq_$ 0.0021655838747293025\n",
      "capital_run_length_average 0.0015573696145124718\n",
      "word_freq_hp 0.010081613058089295\n",
      "word_freq_mail 0.06545654565456545\n",
      "word_freq_edu 0.025396825396825397\n",
      "word_freq_our 0.015\n",
      "word_freq_free 0.0315\n",
      "char_freq_! 0.01573372744627132\n",
      "capital_run_length_total 0.00523956820907771\n",
      "word_freq_re 0.05742296918767507\n",
      "word_freq_remove 0.02751031636863824\n",
      "capital_run_length_longest 0.0015016518169986986\n",
      "capital_run_length_average 0.0018140589569160999\n",
      "word_freq_remove 0.024759284731774415\n",
      "char_freq_! 0.025063119650224768\n",
      "capital_run_length_total 0.0008837825894829872\n",
      "capital_run_length_total 0.004608294930875576\n",
      "word_freq_you 0.1664\n",
      "word_freq_your 0.11611161116111612\n",
      "word_freq_money 0.3328\n",
      "word_freq_free 0.06999999999999999\n",
      "char_freq_! 0.028480817784346326\n",
      "capital_run_length_total 0.00012625465564042673\n",
      "word_freq_your 0.05580558055805581\n",
      "word_freq_business 0.05042016806722689\n",
      "word_freq_our 0.014000000000000002\n",
      "char_freq_( 0.015073831009023788\n",
      "word_freq_1999 0.03338171262699565\n",
      "word_freq_people 0.2072072072072072\n",
      "word_freq_remove 0.005502063273727648\n",
      "word_freq_george 0.004800480048004801\n",
      "word_freq_hp 0.010081613058089295\n",
      "word_freq_hpl 0.031212484993997598\n",
      "word_freq_address 0.02380952380952381\n",
      "word_freq_address 0.03711484593837536\n",
      "word_freq_make 0.0\n",
      "word_freq_make 0.0\n",
      "word_freq_make 0.0\n",
      "char_freq_$ 0.014659336998167587\n",
      "word_freq_hp 0.013922227556409025\n",
      "capital_run_length_average 0.0006349206349206349\n",
      "word_freq_your 0.09900990099009903\n",
      "word_freq_conference 0.007000000000000001\n",
      "capital_run_length_average 0.0021623582766439908\n",
      "word_freq_our 0.01\n",
      "word_freq_your 0.032403240324032405\n",
      "word_freq_our 0.011\n"
     ]
    }
   ],
   "source": [
    "tree=training(training_dataset,10,tree)"
   ]
  },
  {
   "cell_type": "code",
   "execution_count": 516,
   "metadata": {},
   "outputs": [
    {
     "name": "stdout",
     "output_type": "stream",
     "text": [
      "{   '< char_freq_$ 0.009328668998833917': {   '< word_freq_remove 0.008253094910591473': {   '< char_freq_! 0.005911694069831886': 0    1864\n",
      "1     165\n",
      "Name: class, dtype: int64,\n",
      "                                                                                             '> char_freq_! 0.005911694069831886': {   '< capital_run_length_average 0.0016117913832199545': {   '< word_freq_free 0.006500000000000001': {   '< word_freq_internet 0.052205220522052204': {   '< word_freq_addresses 0.04081632653061224': {   '< char_freq_! 0.02564813104255188': 0    175\n",
      "1     13\n",
      "Name: class, dtype: int64,\n",
      "                                                                                                                                                                                                                                                                                                                                                '> char_freq_! 0.02564813104255188': {   '< word_freq_you 0.06453333333333333': {   '< capital_run_length_total 0.00012625465564042673': 1    2\n",
      "Name: class, dtype: int64,\n",
      "                                                                                                                                                                                                                                                                                                                                                                                                                                    '> capital_run_length_total 0.00012625465564042673': {   '< word_freq_money 0.3328': 0    19\n",
      "1     1\n",
      "Name: class, dtype: int64,\n",
      "                                                                                                                                                                                                                                                                                                                                                                                                                                                                                             '> word_freq_money 0.3328': 1    1\n",
      "Name: class, dtype: int64}},\n",
      "                                                                                                                                                                                                                                                                                                                                                                                         '> word_freq_you 0.06453333333333333': {   '< capital_run_length_average 0.00019047619047619045': 0    5\n",
      "Name: class, dtype: int64,\n",
      "                                                                                                                                                                                                                                                                                                                                                                                                                                    '> capital_run_length_average 0.00019047619047619045': {   '< word_freq_re 0.03221288515406162': 1    11\n",
      "0     1\n",
      "Name: class, dtype: int64,\n",
      "                                                                                                                                                                                                                                                                                                                                                                                                                                                                                               '> word_freq_re 0.03221288515406162': {   '< word_freq_over 0.20578231292517007': 0    3\n",
      "Name: class, dtype: int64,\n",
      "                                                                                                                                                                                                                                                                                                                                                                                                                                                                                                                                         '> word_freq_over 0.20578231292517007': 1    1\n",
      "Name: class, dtype: int64}}}}},\n",
      "                                                                                                                                                                                                                                                                                               '> word_freq_addresses 0.04081632653061224': 1    6\n",
      "Name: class, dtype: int64},\n",
      "                                                                                                                                                                                                                                              '> word_freq_internet 0.052205220522052204': 1    7\n",
      "Name: class, dtype: int64},\n",
      "                                                                                                                                                                                                 '> word_freq_free 0.006500000000000001': {   '< char_freq_! 0.01613399839891619': {   '< word_freq_internet 0.0747074707470747': {   '< char_freq_! 0.010591785208448794': {   '< word_freq_you 0.1584': 1    3\n",
      "Name: class, dtype: int64,\n",
      "                                                                                                                                                                                                                                                                                                                                                                                '> word_freq_you 0.1584': {   '< word_freq_free 0.072': 0    3\n",
      "Name: class, dtype: int64,\n",
      "                                                                                                                                                                                                                                                                                                                                                                                                              '> word_freq_free 0.072': 1    1\n",
      "Name: class, dtype: int64}},\n",
      "                                                                                                                                                                                                                                                                                                                                      '> char_freq_! 0.010591785208448794': {   '< word_freq_all 0.32941176470588235': 0    9\n",
      "Name: class, dtype: int64,\n",
      "                                                                                                                                                                                                                                                                                                                                                                                '> word_freq_all 0.32941176470588235': 1    1\n",
      "Name: class, dtype: int64}},\n",
      "                                                                                                                                                                                                                                                                                       '> word_freq_internet 0.0747074707470747': 1    6\n",
      "Name: class, dtype: int64},\n",
      "                                                                                                                                                                                                                                              '> char_freq_! 0.01613399839891619': 1    26\n",
      "0     2\n",
      "Name: class, dtype: int64}},\n",
      "                                                                                                                                       '> capital_run_length_average 0.0016117913832199545': {   '< char_freq_! 0.01573372744627132': {   '< word_freq_internet 0.016201620162016202': {   '< word_freq_free 0.0395': {   '< word_freq_will 0.08066184074457083': {   '< word_freq_re 0.02847805788982259': {   '< capital_run_length_average 0.002689342403628118': {   '< word_freq_make 0.01762114537444934': {   '< word_freq_mail 0.06160616061606161': 0    8\n",
      "Name: class, dtype: int64,\n",
      "                                                                                                                                                                                                                                                                                                                                                                                                                                                                                                                     '> word_freq_mail 0.06160616061606161': 1    1\n",
      "Name: class, dtype: int64},\n",
      "                                                                                                                                                                                                                                                                                                                                                                                                                                                                         '> word_freq_make 0.01762114537444934': 1    2\n",
      "Name: class, dtype: int64},\n",
      "                                                                                                                                                                                                                                                                                                                                                                                                                '> capital_run_length_average 0.002689342403628118': {   '< word_freq_pm 0.019801980198019802': 1    14\n",
      "0     1\n",
      "Name: class, dtype: int64,\n",
      "                                                                                                                                                                                                                                                                                                                                                                                                                                                                         '> word_freq_pm 0.019801980198019802': 0    2\n",
      "Name: class, dtype: int64}},\n",
      "                                                                                                                                                                                                                                                                                                                                                                      '> word_freq_re 0.02847805788982259': 0    7\n",
      "Name: class, dtype: int64},\n",
      "                                                                                                                                                                                                                                                                                                                          '> word_freq_will 0.08066184074457083': 0    9\n",
      "Name: class, dtype: int64},\n",
      "                                                                                                                                                                                                                                                                                           '> word_freq_free 0.0395': {   '< word_freq_email 0.1826182618261826': 1    15\n",
      "Name: class, dtype: int64,\n",
      "                                                                                                                                                                                                                                                                                                                          '> word_freq_email 0.1826182618261826': 0    2\n",
      "Name: class, dtype: int64}},\n",
      "                                                                                                                                                                                                                                          '> word_freq_internet 0.016201620162016202': 1    17\n",
      "Name: class, dtype: int64},\n",
      "                                                                                                                                                                                                 '> char_freq_! 0.01573372744627132': 1    116\n",
      "0      9\n",
      "Name: class, dtype: int64}}},\n",
      "                                              '> word_freq_remove 0.008253094910591473': {   '< word_freq_george 0.008400840084008402': 1    236\n",
      "0     14\n",
      "Name: class, dtype: int64,\n",
      "                                                                                             '> word_freq_george 0.008400840084008402': 0    12\n",
      "Name: class, dtype: int64}},\n",
      "    '> char_freq_$ 0.009328668998833917': {   '< word_freq_hp 0.02016322611617859': 1    784\n",
      "0     57\n",
      "Name: class, dtype: int64,\n",
      "                                              '> word_freq_hp 0.02016322611617859': {   '< word_freq_remove 0.02063273727647868': 0    44\n",
      "1     1\n",
      "Name: class, dtype: int64,\n",
      "                                                                                        '> word_freq_remove 0.02063273727647868': 1    5\n",
      "Name: class, dtype: int64}}}\n"
     ]
    }
   ],
   "source": [
    "pp = pprint.PrettyPrinter(indent=4)\n",
    "pp.pprint(tree)"
   ]
  },
  {
   "cell_type": "code",
   "execution_count": 502,
   "metadata": {},
   "outputs": [],
   "source": [
    "def testing(row,tree,depth):\n",
    " \n",
    "    if  depth !=0 and type(tree)==dict :\n",
    "        for key in tree.keys():\n",
    "            operator = key.split(\" \")[0]\n",
    "            feature =key.split(\" \")[1]\n",
    "            threshold=key.split(\" \")[2]\n",
    "            row_feature = row[feature]\n",
    "            if operator == '<':\n",
    "                if (row_feature)< float(threshold):\n",
    "                    result=testing(row,tree[key],depth-1)\n",
    "                    return result\n",
    "            else:\n",
    "                if (row_feature)>= float(threshold):\n",
    "                    result=testing(row,tree[key],depth-1)\n",
    "                    return result\n",
    "    else:\n",
    "        \n",
    "        if 0 not in tree:\n",
    "            return 1\n",
    "        elif 1 not in tree:\n",
    "            return 0\n",
    "        else:\n",
    "            if tree[0]>tree[1]:\n",
    "                return 0\n",
    "            else:\n",
    "                return 1"
   ]
  },
  {
   "cell_type": "code",
   "execution_count": 586,
   "metadata": {},
   "outputs": [],
   "source": [
    "prediction=[]\n",
    "for index,row in test_dataset.iterrows():\n",
    "    prediction.append(testing(row,tree,10))"
   ]
  },
  {
   "cell_type": "code",
   "execution_count": 599,
   "metadata": {},
   "outputs": [],
   "source": [
    "def accuracy(prediction,test_dataset):\n",
    "    test=list(test_dataset['class'])\n",
    "    ac = zip(prediction,test)\n",
    "    right =0\n",
    "    for k,v in ac:\n",
    "        if k ==v:\n",
    "            right+=1\n",
    "    return right/len(prediction)"
   ]
  },
  {
   "cell_type": "code",
   "execution_count": 600,
   "metadata": {},
   "outputs": [],
   "source": [
    "acc = accuracy(prediction,test_dataset)"
   ]
  },
  {
   "cell_type": "code",
   "execution_count": 602,
   "metadata": {},
   "outputs": [
    {
     "data": {
      "text/plain": [
       "0.937"
      ]
     },
     "execution_count": 602,
     "metadata": {},
     "output_type": "execute_result"
    }
   ],
   "source": [
    "acc"
   ]
  },
  {
   "cell_type": "code",
   "execution_count": null,
   "metadata": {},
   "outputs": [],
   "source": []
  }
 ],
 "metadata": {
  "kernelspec": {
   "display_name": "Python 3",
   "language": "python",
   "name": "python3"
  },
  "language_info": {
   "codemirror_mode": {
    "name": "ipython",
    "version": 3
   },
   "file_extension": ".py",
   "mimetype": "text/x-python",
   "name": "python",
   "nbconvert_exporter": "python",
   "pygments_lexer": "ipython3",
   "version": "3.7.1"
  }
 },
 "nbformat": 4,
 "nbformat_minor": 2
}
