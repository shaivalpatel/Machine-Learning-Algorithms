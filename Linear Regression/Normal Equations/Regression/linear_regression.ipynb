{
 "cells": [
  {
   "cell_type": "code",
   "execution_count": 1,
   "metadata": {},
   "outputs": [],
   "source": [
    "import pandas as pd\n",
    "import numpy as np\n",
    "from numpy.linalg import inv"
   ]
  },
  {
   "cell_type": "code",
   "execution_count": 2,
   "metadata": {},
   "outputs": [
    {
     "name": "stdout",
     "output_type": "stream",
     "text": [
      "['CRIM', 'ZN', 'INDUS', 'CHAS', 'NOX', 'RM', 'AGE', 'DIS', 'RAD', 'TAX', 'PTRATIO', 'B', 'LSTAT']\n"
     ]
    },
    {
     "name": "stderr",
     "output_type": "stream",
     "text": [
      "/Users/shaivalpatel/anaconda3/lib/python3.7/site-packages/ipykernel_launcher.py:8: FutureWarning: convert_objects is deprecated.  To re-infer data dtypes for object columns, use DataFrame.infer_objects()\n",
      "For all other conversions use the data-type specific converters pd.to_datetime, pd.to_timedelta and pd.to_numeric.\n",
      "  \n"
     ]
    }
   ],
   "source": [
    "training_data = open('housing_train.txt').read().split(\"\\n\")\n",
    "training_data = [i.split(\" \") for i in (training_data)]\n",
    "training_data=[list(filter(lambda j: len(j) > 0, x)) for x in training_data]\n",
    "training_data=list(filter(lambda x: len(x) > 0, training_data))\n",
    "column = open('features','r').read().split(\"\\n\")\n",
    "column =[i.strip() for i in column]\n",
    "training_dataset =  pd.DataFrame(training_data, columns=column)\n",
    "training_dataset=training_dataset.convert_objects(convert_numeric=True)\n",
    "training_dataset=training_dataset.dropna()\n",
    "columnmax = [max(training_dataset[i]) for i in training_dataset.columns]\n",
    "columnmin = [min(training_dataset[i]) for i in training_dataset.columns]\n",
    "columns = list(training_dataset.columns)\n",
    "del columns[-1]\n",
    "print(columns)\n",
    "for i,j in enumerate(columns):\n",
    "    training_dataset[j] = (training_dataset[j] - columnmin[i])/columnmax[i]\n",
    "# dataset['class']= dataset['class'].astype(int)\n",
    "# training_dataset=dataset.sample(frac=1)[:-1000]\n",
    "# test_dataset=dataset.sample(frac=1)[-1000:]"
   ]
  },
  {
   "cell_type": "code",
   "execution_count": 3,
   "metadata": {},
   "outputs": [
    {
     "name": "stdout",
     "output_type": "stream",
     "text": [
      "['CRIM', 'ZN', 'INDUS', 'CHAS', 'NOX', 'RM', 'AGE', 'DIS', 'RAD', 'TAX', 'PTRATIO', 'B', 'LSTAT']\n"
     ]
    },
    {
     "name": "stderr",
     "output_type": "stream",
     "text": [
      "/Users/shaivalpatel/anaconda3/lib/python3.7/site-packages/ipykernel_launcher.py:8: FutureWarning: convert_objects is deprecated.  To re-infer data dtypes for object columns, use DataFrame.infer_objects()\n",
      "For all other conversions use the data-type specific converters pd.to_datetime, pd.to_timedelta and pd.to_numeric.\n",
      "  \n"
     ]
    }
   ],
   "source": [
    "testing_data = open('housing_test.txt').read().split(\"\\n\")\n",
    "testing_data = [i.split(\" \") for i in (testing_data)]\n",
    "testing_data=[list(filter(lambda j: len(j) > 0, x)) for x in testing_data]\n",
    "testing_data=list(filter(lambda x: len(x) > 0, testing_data))\n",
    "column = open('features','r').read().split(\"\\n\")\n",
    "column =[i.strip() for i in column]\n",
    "testing_dataset =  pd.DataFrame(testing_data, columns=column)\n",
    "testing_dataset=testing_dataset.convert_objects(convert_numeric=True)\n",
    "columnmax = [max(testing_dataset[i]) for i in testing_dataset.columns]\n",
    "columnmin = [min(testing_dataset[i]) for i in testing_dataset.columns]\n",
    "columns = list(testing_dataset.columns)\n",
    "del columns[-1]\n",
    "print(columns)\n",
    "for i,j in enumerate(columns):\n",
    "    testing_dataset[j] = (testing_dataset[j] - columnmin[i])/columnmax[i]"
   ]
  },
  {
   "cell_type": "code",
   "execution_count": 9,
   "metadata": {},
   "outputs": [],
   "source": [
    "def training(dataset):\n",
    "    Y = dataset['MEDV']\n",
    "    X = dataset.drop(columns=['MEDV']).values\n",
    "    XT = np.transpose(X)\n",
    "    W=np.matmul(inv(np.matmul(XT,X)),np.matmul(XT,Y))\n",
    "    return W"
   ]
  },
  {
   "cell_type": "code",
   "execution_count": 5,
   "metadata": {},
   "outputs": [],
   "source": [
    "def testing(row,W):\n",
    "    X = list(row[:-1])\n",
    "    w_sum =np.sum(np.transpose(W)*X)\n",
    "    return w_sum"
   ]
  },
  {
   "cell_type": "code",
   "execution_count": 6,
   "metadata": {},
   "outputs": [],
   "source": [
    "def accuracy(prediction,testing_dataset):\n",
    "    test=np.asarray(list(testing_dataset['MEDV']))\n",
    "    pred =np.asarray(list(prediction))\n",
    "    return np.sum((test-pred)**2)/len(pred)"
   ]
  },
  {
   "cell_type": "code",
   "execution_count": 7,
   "metadata": {},
   "outputs": [],
   "source": [
    "def main():\n",
    "    weights = training(training_dataset)\n",
    "    prediction=[]\n",
    "    for index,row in testing_dataset.iterrows():\n",
    "        prediction.append(testing(row,weights))\n",
    "    acc = accuracy(prediction,testing_dataset)\n",
    "    print(acc)"
   ]
  },
  {
   "cell_type": "code",
   "execution_count": 10,
   "metadata": {},
   "outputs": [
    {
     "name": "stdout",
     "output_type": "stream",
     "text": [
      "42.91300799089705\n"
     ]
    }
   ],
   "source": [
    "main()"
   ]
  },
  {
   "cell_type": "code",
   "execution_count": null,
   "metadata": {},
   "outputs": [],
   "source": []
  }
 ],
 "metadata": {
  "kernelspec": {
   "display_name": "Python 3",
   "language": "python",
   "name": "python3"
  },
  "language_info": {
   "codemirror_mode": {
    "name": "ipython",
    "version": 3
   },
   "file_extension": ".py",
   "mimetype": "text/x-python",
   "name": "python",
   "nbconvert_exporter": "python",
   "pygments_lexer": "ipython3",
   "version": "3.7.1"
  }
 },
 "nbformat": 4,
 "nbformat_minor": 2
}
