{
 "cells": [
  {
   "cell_type": "code",
   "execution_count": 1,
   "metadata": {},
   "outputs": [],
   "source": [
    "import numpy as np\n",
    "import pandas as pd\n"
   ]
  },
  {
   "cell_type": "code",
   "execution_count": 2,
   "metadata": {},
   "outputs": [
    {
     "name": "stderr",
     "output_type": "stream",
     "text": [
      "/Users/shaivalpatel/anaconda3/lib/python3.7/site-packages/ipykernel_launcher.py:6: FutureWarning: convert_objects is deprecated.  To re-infer data dtypes for object columns, use DataFrame.infer_objects()\n",
      "For all other conversions use the data-type specific converters pd.to_datetime, pd.to_timedelta and pd.to_numeric.\n",
      "  \n"
     ]
    },
    {
     "data": {
      "text/plain": [
       "0    2788\n",
       "1    1813\n",
       "Name: class, dtype: int64"
      ]
     },
     "execution_count": 2,
     "metadata": {},
     "output_type": "execute_result"
    }
   ],
   "source": [
    "data = open('spambase.data').read().split(\"\\n\")\n",
    "data = [i.split(\",\") for i in (data)]\n",
    "column = open('features','r').read().split(\"\\n\")\n",
    "column =[i.strip() for i in column]\n",
    "dataset =  pd.DataFrame(data, columns=column)\n",
    "dataset=dataset.convert_objects(convert_numeric=True)\n",
    "dataset=dataset.dropna()\n",
    "columnmax = [max(dataset[i]) for i in dataset.columns]\n",
    "columnmin = [min(dataset[i]) for i in dataset.columns]\n",
    "for i,j in enumerate(dataset.columns):\n",
    "    dataset[j] = (dataset[j] - columnmin[i])/columnmax[i]\n",
    "dataset['class']= dataset['class'].astype(int)\n",
    "# dataset.insert(0,'Bias',1)\n",
    "dataset['class'].value_counts()"
   ]
  },
  {
   "cell_type": "code",
   "execution_count": 111,
   "metadata": {},
   "outputs": [],
   "source": [
    "def mean_squared(W,X,Y,m):\n",
    "    return (np.sum((np.matmul(X,np.transpose(W))-Y)**2))/m"
   ]
  },
  {
   "cell_type": "code",
   "execution_count": 112,
   "metadata": {},
   "outputs": [],
   "source": [
    "def training(learning_rate,initial_weights,m,dataset):\n",
    "    diff = 10000000000\n",
    "    Y = np.asarray(list(dataset['class']))\n",
    "    X = dataset.drop(columns=['class']).values\n",
    "    XT=np.transpose(X)\n",
    "    w_old = initial_weights\n",
    "    d_old = mean_squared(initial_weights,X,Y,m)\n",
    "    while diff >0.0000000000001:\n",
    "        print(w_old)\n",
    "        print(np.matmul(X,(np.transpose(w_old))))\n",
    "        w_new = w_old - (learning_rate /m) * (np.matmul(XT,(np.matmul(X,(np.transpose(w_old)))-Y)))\n",
    "        d_new = mean_squared(w_new,X,Y,m)\n",
    "        diff = d_new-d_old\n",
    "        d_old=d_new\n",
    "        print(d_old)\n",
    "        w_old = w_new\n",
    "    return w_old\n",
    "    "
   ]
  },
  {
   "cell_type": "code",
   "execution_count": 113,
   "metadata": {},
   "outputs": [
    {
     "name": "stdout",
     "output_type": "stream",
     "text": [
      "[0.76650451 0.05308169 0.15120198 0.96889054 0.31176996 0.31975215\n",
      " 0.87524852 0.10970128 0.71682684 0.1694265  0.46477161 0.49164783\n",
      " 0.15294086 0.73209212 0.52593625 0.49812782 0.02613574 0.71678137\n",
      " 0.92821287 0.92330822 0.03282681 0.51996791 0.54296646 0.8201896\n",
      " 0.88475192 0.61512509 0.62146877 0.38942837 0.30852222 0.83349861\n",
      " 0.31556569 0.77829343 0.23300391 0.96539219 0.25609045 0.78064055\n",
      " 0.79834812 0.40435242 0.57977477 0.31567285 0.52766846 0.26250265\n",
      " 0.2824809  0.98369003 0.16777829 0.33024073 0.81468266 0.8915489\n",
      " 0.76430544 0.00878251 0.81353835 0.84133277 0.76712966 0.40858795\n",
      " 0.65870564 0.35119718 0.33391396]\n",
      "[0.76650451 0.05308169 0.15120198 0.96889054 0.31176996 0.31975215\n",
      " 0.87524852 0.10970128 0.71682684 0.1694265  0.46477161 0.49164783\n",
      " 0.15294086 0.73209212 0.52593625 0.49812782 0.02613574 0.71678137\n",
      " 0.92821287 0.92330822 0.03282681 0.51996791 0.54296646 0.8201896\n",
      " 0.88475192 0.61512509 0.62146877 0.38942837 0.30852222 0.83349861\n",
      " 0.31556569 0.77829343 0.23300391 0.96539219 0.25609045 0.78064055\n",
      " 0.79834812 0.40435242 0.57977477 0.31567285 0.52766846 0.26250265\n",
      " 0.2824809  0.98369003 0.16777829 0.33024073 0.81468266 0.8915489\n",
      " 0.76430544 0.00878251 0.81353835 0.84133277 0.76712966 0.40858795\n",
      " 0.65870564 0.35119718 0.33391396]\n",
      "[0.93632894 0.33330097 0.37300287 ... 0.64935258 0.62674833 0.1372526 ]\n",
      "0.3268520712342262\n"
     ]
    },
    {
     "ename": "NameError",
     "evalue": "name 'testing' is not defined",
     "output_type": "error",
     "traceback": [
      "\u001b[0;31m---------------------------------------------------------------------------\u001b[0m",
      "\u001b[0;31mNameError\u001b[0m                                 Traceback (most recent call last)",
      "\u001b[0;32m<ipython-input-113-350c8cc5964b>\u001b[0m in \u001b[0;36m<module>\u001b[0;34m\u001b[0m\n\u001b[1;32m     16\u001b[0m             \u001b[0mprediction\u001b[0m\u001b[0;34m=\u001b[0m\u001b[0;34m[\u001b[0m\u001b[0;34m]\u001b[0m\u001b[0;34m\u001b[0m\u001b[0;34m\u001b[0m\u001b[0m\n\u001b[1;32m     17\u001b[0m             \u001b[0;32mfor\u001b[0m \u001b[0mindex\u001b[0m\u001b[0;34m,\u001b[0m\u001b[0mrow\u001b[0m \u001b[0;32min\u001b[0m \u001b[0mtest_dataset\u001b[0m\u001b[0;34m.\u001b[0m\u001b[0miterrows\u001b[0m\u001b[0;34m(\u001b[0m\u001b[0;34m)\u001b[0m\u001b[0;34m:\u001b[0m\u001b[0;34m\u001b[0m\u001b[0;34m\u001b[0m\u001b[0m\n\u001b[0;32m---> 18\u001b[0;31m                 \u001b[0mprediction\u001b[0m\u001b[0;34m.\u001b[0m\u001b[0mappend\u001b[0m\u001b[0;34m(\u001b[0m\u001b[0mtesting\u001b[0m\u001b[0;34m(\u001b[0m\u001b[0mrow\u001b[0m\u001b[0;34m,\u001b[0m\u001b[0mweights\u001b[0m\u001b[0;34m)\u001b[0m\u001b[0;34m)\u001b[0m\u001b[0;34m\u001b[0m\u001b[0;34m\u001b[0m\u001b[0m\n\u001b[0m\u001b[1;32m     19\u001b[0m             \u001b[0macc\u001b[0m \u001b[0;34m=\u001b[0m \u001b[0maccuracy\u001b[0m\u001b[0;34m(\u001b[0m\u001b[0mprediction\u001b[0m\u001b[0;34m,\u001b[0m\u001b[0mtest_dataset\u001b[0m\u001b[0;34m)\u001b[0m\u001b[0;34m\u001b[0m\u001b[0;34m\u001b[0m\u001b[0m\n\u001b[1;32m     20\u001b[0m             \u001b[0mac\u001b[0m\u001b[0;34m.\u001b[0m\u001b[0mappend\u001b[0m\u001b[0;34m(\u001b[0m\u001b[0macc\u001b[0m\u001b[0;34m)\u001b[0m\u001b[0;34m\u001b[0m\u001b[0;34m\u001b[0m\u001b[0m\n",
      "\u001b[0;31mNameError\u001b[0m: name 'testing' is not defined"
     ]
    }
   ],
   "source": [
    "dataset = dataset.sample(frac=1)\n",
    "\n",
    "b=0\n",
    "while b<=0.5:\n",
    "    ac=[]\n",
    "    for i in range(0,len(dataset),920):\n",
    "        if i+920<len(dataset):\n",
    "           \n",
    "            training_dataset=pd.concat([dataset[i+920:],dataset[0:i]])\n",
    "            n = 57\n",
    "            m = len(training_dataset)\n",
    "            W=np.random.rand(n)\n",
    "            print(W)\n",
    "            test_dataset=dataset[i:i+920]\n",
    "            weights=training(0.1,W,m,training_dataset)\n",
    "            prediction=[]\n",
    "            for index,row in test_dataset.iterrows():\n",
    "                prediction.append(testing(row,weights))\n",
    "            acc = accuracy(prediction,test_dataset)\n",
    "            ac.append(acc)\n",
    "    print(np.sum(np.asarray(ac))/5)\n",
    "    b+=0.01"
   ]
  },
  {
   "cell_type": "code",
   "execution_count": null,
   "metadata": {},
   "outputs": [],
   "source": []
  },
  {
   "cell_type": "code",
   "execution_count": 8,
   "metadata": {},
   "outputs": [
    {
     "data": {
      "text/plain": [
       "array([0.62263766, 0.9335026 , 0.29797037, ..., 0.15312717, 0.61044247,\n",
       "       0.72430497])"
      ]
     },
     "execution_count": 8,
     "metadata": {},
     "output_type": "execute_result"
    }
   ],
   "source": []
  },
  {
   "cell_type": "code",
   "execution_count": 102,
   "metadata": {},
   "outputs": [],
   "source": [
    "a=np.asarray([1,2,3])\n",
    "b = np.asarray([[4,5,6]])"
   ]
  },
  {
   "cell_type": "code",
   "execution_count": 103,
   "metadata": {},
   "outputs": [
    {
     "data": {
      "text/plain": [
       "array([32])"
      ]
     },
     "execution_count": 103,
     "metadata": {},
     "output_type": "execute_result"
    }
   ],
   "source": [
    "np.matmul(b,np.transpose(a))"
   ]
  },
  {
   "cell_type": "code",
   "execution_count": 104,
   "metadata": {},
   "outputs": [
    {
     "data": {
      "text/plain": [
       "array([[3, 3, 3]])"
      ]
     },
     "execution_count": 104,
     "metadata": {},
     "output_type": "execute_result"
    }
   ],
   "source": [
    "b-a"
   ]
  },
  {
   "cell_type": "code",
   "execution_count": null,
   "metadata": {},
   "outputs": [],
   "source": []
  }
 ],
 "metadata": {
  "kernelspec": {
   "display_name": "Python 3",
   "language": "python",
   "name": "python3"
  },
  "language_info": {
   "codemirror_mode": {
    "name": "ipython",
    "version": 3
   },
   "file_extension": ".py",
   "mimetype": "text/x-python",
   "name": "python",
   "nbconvert_exporter": "python",
   "pygments_lexer": "ipython3",
   "version": "3.7.1"
  }
 },
 "nbformat": 4,
 "nbformat_minor": 2
}
